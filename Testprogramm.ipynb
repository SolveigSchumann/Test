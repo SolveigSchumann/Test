{
 "cells": [
  {
   "cell_type": "code",
   "execution_count": 1,
   "metadata": {},
   "outputs": [
    {
     "name": "stdout",
     "output_type": "stream",
     "text": [
      "Wie heißt du\n"
     ]
    }
   ],
   "source": [
    "# Variablen definieren \n",
    "frage1 = \"Wie heißt du\"\n",
    "x = \"3\"\n",
    "\n",
    "print(frage1)"
   ]
  },
  {
   "cell_type": "code",
   "execution_count": 3,
   "metadata": {},
   "outputs": [
    {
     "name": "stdout",
     "output_type": "stream",
     "text": [
      "WIe heißt du?Solveig\n",
      "Solveig\n"
     ]
    }
   ],
   "source": [
    "# nach Antwort fragen\n",
    "antwort = input(\"Wie heißt du?\")\n",
    "\n",
    "print(antwort)"
   ]
  },
  {
   "cell_type": "code",
   "execution_count": null,
   "metadata": {},
   "outputs": [],
   "source": [
    "# Score definieren\n",
    "score = 0 \n",
    "\n",
    "# Methode definieren\n",
    "def scorehoch():\n",
    "    score = score + 1\n",
    "\n",
    "\n",
    "\n",
    "from IPython.display import Image as Bayern, display\n",
    "display(Bayern('https://upload.wikimedia.org/wikipedia/commons/thumb/2/2f/Deutschland_Lage_von_Bayern.svg/2000px-Deutschland_Lage_von_Bayern.svg.png', width=100, height=100))\n",
    "pass \n",
    "\n",
    "print(\"Welches Bundesland ist das?\")\n",
    "antwort = input(\"Nenne deine Antwort\")\n",
    "\n",
    "if antwort == \"Bayern\":\n",
    "    print(\"das ist richtig\")\n",
    "    scorehoch()\n",
    "    print(\"Dein score ist\" + score)\n",
    "    \n",
    "else:\n",
    "    print(\"falsch\")\n",
    "    score = score - 1\n",
    "    print(score)\n",
    "\n",
    "\n",
    "    "
   ]
  },
  {
   "cell_type": "code",
   "execution_count": 6,
   "metadata": {},
   "outputs": [
    {
     "name": "stdout",
     "output_type": "stream",
     "text": [
      "Bayern\n",
      "1\n"
     ]
    }
   ],
   "source": [
    "score = 0 \n",
    "# Klassen definieren\n",
    "class Bundesländer():\n",
    "    b = \"Bayern\"\n",
    "    b1 = \"Berlin\"\n",
    "    \n",
    "    def score(self, score):\n",
    "        score = score + 1\n",
    "        print(score)\n",
    "        \n",
    "abc = Bundesländer()\n",
    "\n",
    "\n",
    "print(abc.b)\n",
    "\n",
    "# Methode aus Klasse aufrufen\n",
    "abc.score(score)\n"
   ]
  },
  {
   "cell_type": "code",
   "execution_count": 10,
   "metadata": {},
   "outputs": [
    {
     "name": "stdout",
     "output_type": "stream",
     "text": [
      "hallo\n",
      "tschüss\n",
      "hallo\n",
      "tschüss\n"
     ]
    }
   ],
   "source": [
    "# Liste erstellen \n",
    "Liste = [\"hallo\", \"tschüss\"]\n",
    "\n",
    "# Liste ausgeben \n",
    "print (Liste[0])\n",
    "print (Liste[1])\n",
    "\n",
    "# gesamte Liste ausgeben\n",
    "for list in Liste:\n",
    "    print(list)"
   ]
  },
  {
   "cell_type": "code",
   "execution_count": null,
   "metadata": {},
   "outputs": [],
   "source": []
  }
 ],
 "metadata": {
  "kernelspec": {
   "display_name": "Python 3",
   "language": "python",
   "name": "python3"
  },
  "language_info": {
   "codemirror_mode": {
    "name": "ipython",
    "version": 3
   },
   "file_extension": ".py",
   "mimetype": "text/x-python",
   "name": "python",
   "nbconvert_exporter": "python",
   "pygments_lexer": "ipython3",
   "version": "3.8.5"
  }
 },
 "nbformat": 4,
 "nbformat_minor": 4
}
